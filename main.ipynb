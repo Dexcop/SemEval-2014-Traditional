{
 "cells": [
  {
   "cell_type": "code",
   "execution_count": 1,
   "id": "0c6df8c4",
   "metadata": {},
   "outputs": [],
   "source": [
    "import xml.etree.ElementTree as ET \n",
    "from sklearn.feature_extraction.text import TfidfVectorizer \n",
    "from sklearn.preprocessing import MultiLabelBinarizer \n",
    "from sklearn.svm import SVC \n",
    "from sklearn.multiclass import OneVsRestClassifier\n",
    "from sklearn.metrics import f1_score, classification_report\n",
    "import time"
   ]
  },
  {
   "cell_type": "code",
   "execution_count": 2,
   "id": "c9dd2744",
   "metadata": {},
   "outputs": [],
   "source": [
    "def parse_semeval_xml(file_path):\n",
    "    tree = ET.parse(file_path)\n",
    "    root = tree.getroot()\n",
    "    \n",
    "    sentences = []\n",
    "    labels = []\n",
    "    \n",
    "    for sentence_elem in root.findall('sentence'):\n",
    "        text_elem = sentence_elem.find('text')\n",
    "        \n",
    "        if text_elem is not None and text_elem.text and text_elem.text.strip():\n",
    "            sentences.append(text_elem.text)\n",
    "        \n",
    "            aspect_categories = sentence_elem.find('aspectCategories')\n",
    "            if aspect_categories is not None:\n",
    "                sentence_labels = [cat.get('category') for cat in aspect_categories.findall('aspectCategory')]\n",
    "                labels.append(sentence_labels)\n",
    "            else:\n",
    "                labels.append([])\n",
    "        else:\n",
    "            continue\n",
    "        \n",
    "    return sentences, labels"
   ]
  },
  {
   "cell_type": "code",
   "execution_count": 3,
   "id": "f9ab0dbf",
   "metadata": {},
   "outputs": [
    {
     "name": "stdout",
     "output_type": "stream",
     "text": [
      "Loaded 3044 training sentences and 800 test sentences.\n",
      "Example training sentence: To be completely fair, the only redeeming factor was the food, which was above average, but couldn't make up for all the other deficiencies of Teodora.\n",
      "Example training labels: ['food', 'anecdotes/miscellaneous']\n"
     ]
    }
   ],
   "source": [
    "train_path = './datasets/Restaurants_Train.xml'\n",
    "test_path = './datasets/Restaurants_Test_Data_phaseB.xml'\n",
    "\n",
    "train_texts, train_labels_str = parse_semeval_xml(train_path)\n",
    "test_texts, test_labels_str = parse_semeval_xml(test_path)\n",
    "\n",
    "print(f\"Loaded {len(train_texts)} training sentences and {len(test_texts)} test sentences.\")\n",
    "print(\"Example training sentence:\", train_texts[1])\n",
    "print(\"Example training labels:\", train_labels_str[1])"
   ]
  },
  {
   "cell_type": "code",
   "execution_count": 4,
   "id": "86ff5b0e",
   "metadata": {},
   "outputs": [
    {
     "name": "stdout",
     "output_type": "stream",
     "text": [
      "labels have been binarized\n",
      "example binarized training labels: [1 0 0 0 1]\n",
      "label mapping: ['food', 'service', 'price', 'ambience', 'anecdotes/miscellaneous']\n"
     ]
    }
   ],
   "source": [
    "CATEGORIES = ['food', 'service', 'price', 'ambience', 'anecdotes/miscellaneous']\n",
    "\n",
    "mlb = MultiLabelBinarizer(classes=CATEGORIES)\n",
    "\n",
    "train_labels = mlb.fit_transform(train_labels_str)\n",
    "test_labels = mlb.transform(test_labels_str)\n",
    "\n",
    "print('labels have been binarized')\n",
    "print(f'example binarized training labels: {train_labels[1]}')\n",
    "print(f'label mapping: {list(mlb.classes_)}')"
   ]
  },
  {
   "cell_type": "code",
   "execution_count": 5,
   "id": "38a82076",
   "metadata": {},
   "outputs": [],
   "source": [
    "vectorizer = TfidfVectorizer(\n",
    "    lowercase=True,\n",
    "    stop_words='english',\n",
    "    max_features=5000\n",
    ")"
   ]
  },
  {
   "cell_type": "code",
   "execution_count": 6,
   "id": "bdf06c03",
   "metadata": {},
   "outputs": [
    {
     "name": "stdout",
     "output_type": "stream",
     "text": [
      "shape of training data matrix: (3044, 4152)\n"
     ]
    }
   ],
   "source": [
    "X_train_tfidf = vectorizer.fit_transform(train_texts)\n",
    "X_test_tfidf = vectorizer.transform(test_texts)\n",
    "\n",
    "print(f'shape of training data matrix: {X_train_tfidf.shape}')"
   ]
  },
  {
   "cell_type": "code",
   "execution_count": 7,
   "id": "a5ca5dd9",
   "metadata": {},
   "outputs": [],
   "source": [
    "svm_classifier =SVC(kernel='linear', probability=True, C=1.0)\n",
    "ovr_classifier = OneVsRestClassifier(svm_classifier)"
   ]
  },
  {
   "cell_type": "code",
   "execution_count": 8,
   "id": "a9895702",
   "metadata": {},
   "outputs": [
    {
     "name": "stdout",
     "output_type": "stream",
     "text": [
      "starting baseline model training\n",
      "training finished in 5.27 seconds\n"
     ]
    }
   ],
   "source": [
    "print('starting baseline model training')\n",
    "start_time = time.time()\n",
    "\n",
    "ovr_classifier.fit(X_train_tfidf, train_labels)\n",
    "\n",
    "end_time = time.time()\n",
    "print(f'training finished in {end_time - start_time:.2f} seconds')"
   ]
  },
  {
   "cell_type": "code",
   "execution_count": 9,
   "id": "c208e5bf",
   "metadata": {},
   "outputs": [
    {
     "name": "stdout",
     "output_type": "stream",
     "text": [
      "evaluating model on test set\n",
      "F1-Score: 0.8238453276047261\n",
      "\n",
      "--- Classification Report (Per Category) ---\n",
      "                         precision    recall  f1-score   support\n",
      "\n",
      "                   food       0.94      0.84      0.89       418\n",
      "                service       0.96      0.79      0.87       172\n",
      "                  price       0.98      0.70      0.82        83\n",
      "               ambience       0.92      0.58      0.71       118\n",
      "anecdotes/miscellaneous       0.81      0.65      0.72       234\n",
      "\n",
      "              micro avg       0.92      0.75      0.82      1025\n",
      "              macro avg       0.92      0.71      0.80      1025\n",
      "           weighted avg       0.92      0.75      0.82      1025\n",
      "            samples avg       0.82      0.77      0.78      1025\n",
      "\n"
     ]
    },
    {
     "name": "stderr",
     "output_type": "stream",
     "text": [
      "c:\\Users\\ardel\\anaconda3\\envs\\ml_env\\lib\\site-packages\\sklearn\\metrics\\_classification.py:1731: UndefinedMetricWarning: Precision is ill-defined and being set to 0.0 in samples with no predicted labels. Use `zero_division` parameter to control this behavior.\n",
      "  _warn_prf(average, modifier, f\"{metric.capitalize()} is\", result.shape[0])\n"
     ]
    }
   ],
   "source": [
    "print('evaluating model on test set')\n",
    "\n",
    "y_pred = ovr_classifier.predict(X_test_tfidf)\n",
    "\n",
    "f1 = f1_score(test_labels, y_pred, average='micro')\n",
    "print(f'F1-Score: {f1}')\n",
    "\n",
    "print('\\n--- Classification Report (Per Category) ---')\n",
    "print(classification_report(test_labels, y_pred, target_names=CATEGORIES))"
   ]
  },
  {
   "cell_type": "code",
   "execution_count": 10,
   "id": "edd4e23f",
   "metadata": {},
   "outputs": [],
   "source": [
    "import pandas as pd "
   ]
  },
  {
   "cell_type": "code",
   "execution_count": 11,
   "id": "5b7962f4",
   "metadata": {},
   "outputs": [
    {
     "name": "stdout",
     "output_type": "stream",
     "text": [
      "saving model predictions to CSV\n"
     ]
    }
   ],
   "source": [
    "print('saving model predictions to CSV')\n",
    "baseline_predicitons_df = pd.DataFrame(y_pred, columns=mlb.classes_)\n",
    "baseline_predicitons_df.to_csv('svm_predictions.csv', index=False)"
   ]
  }
 ],
 "metadata": {
  "kernelspec": {
   "display_name": "ml_env",
   "language": "python",
   "name": "python3"
  },
  "language_info": {
   "codemirror_mode": {
    "name": "ipython",
    "version": 3
   },
   "file_extension": ".py",
   "mimetype": "text/x-python",
   "name": "python",
   "nbconvert_exporter": "python",
   "pygments_lexer": "ipython3",
   "version": "3.10.18"
  }
 },
 "nbformat": 4,
 "nbformat_minor": 5
}
